{
  "nbformat": 4,
  "nbformat_minor": 0,
  "metadata": {
    "colab": {
      "provenance": [],
      "include_colab_link": true
    },
    "kernelspec": {
      "name": "python3",
      "display_name": "Python 3"
    },
    "language_info": {
      "name": "python"
    }
  },
  "cells": [
    {
      "cell_type": "markdown",
      "metadata": {
        "id": "view-in-github",
        "colab_type": "text"
      },
      "source": [
        "<a href=\"https://colab.research.google.com/github/jacyuu/-112/blob/main/Python%E4%BD%9C%E6%A5%AD_%E7%AC%AC2%E7%B5%84_jpynb.ipynb\" target=\"_parent\"><img src=\"https://colab.research.google.com/assets/colab-badge.svg\" alt=\"Open In Colab\"/></a>"
      ]
    },
    {
      "cell_type": "markdown",
      "source": [
        "411352210賴沛儀411352181鄭光詃411352155謝芮妮411352387張瀞予"
      ],
      "metadata": {
        "id": "-lJMLzzRizpR"
      }
    },
    {
      "cell_type": "markdown",
      "source": [
        "1.請將「imdb_top_1000.xlsx」檔案存到你的Google雲端硬碟中，並分享檔案權限的方式讀取檔案中『Data』工作表中的資料，並命名為imdb1000資料集。(10%)"
      ],
      "metadata": {
        "id": "bSweGRi7uipR"
      }
    },
    {
      "cell_type": "code",
      "execution_count": null,
      "metadata": {
        "colab": {
          "base_uri": "https://localhost:8080/"
        },
        "id": "U_Qgn0y9uOfD",
        "outputId": "79887595-3873-46e8-c7b0-e075651a4481"
      },
      "outputs": [
        {
          "output_type": "stream",
          "name": "stdout",
          "text": [
            "Mounted at /content/drive\n"
          ]
        }
      ],
      "source": [
        "from google.colab import drive\n",
        "drive.mount('/content/drive')"
      ]
    },
    {
      "cell_type": "code",
      "source": [
        "import pandas as pd\n",
        "imdb1000 = pd.read_excel('drive/MyDrive/lulu/imdb_top_1000.xlsx')\n",
        "print(imdb1000)"
      ],
      "metadata": {
        "colab": {
          "base_uri": "https://localhost:8080/"
        },
        "id": "bHBHlpdky87Z",
        "outputId": "8d818c59-86b2-4d02-c65b-e72688ad16fa"
      },
      "execution_count": null,
      "outputs": [
        {
          "output_type": "stream",
          "name": "stdout",
          "text": [
            "                 Series_Title  Released_Year Certificate  Runtime  \\\n",
            "0    The Shawshank Redemption           1994           A      142   \n",
            "1               The Godfather           1972           A      175   \n",
            "2             The Dark Knight           2008          UA      152   \n",
            "3      The Godfather: Part II           1974           A      202   \n",
            "4                12 Angry Men           1957           U       96   \n",
            "..                        ...            ...         ...      ...   \n",
            "995    Breakfast at Tiffany's           1961           A      115   \n",
            "996                     Giant           1956           G      201   \n",
            "997     From Here to Eternity           1953      Passed      118   \n",
            "998                  Lifeboat           1944         NaN       97   \n",
            "999              The 39 Steps           1935         NaN       86   \n",
            "\n",
            "     IMDB_Rating  Meta_score  No_of_Votes        Gross  \n",
            "0            9.3        80.0      2343110   28,341,469  \n",
            "1            9.2       100.0      1620367  134,966,411  \n",
            "2            9.0        84.0      2303232  534,858,444  \n",
            "3            9.0        90.0      1129952   57,300,000  \n",
            "4            9.0        96.0       689845    4,360,000  \n",
            "..           ...         ...          ...          ...  \n",
            "995          7.6        76.0       166544          NaN  \n",
            "996          7.6        84.0        34075          NaN  \n",
            "997          7.6        85.0        43374   30,500,000  \n",
            "998          7.6        78.0        26471          NaN  \n",
            "999          7.6        93.0        51853          NaN  \n",
            "\n",
            "[1000 rows x 8 columns]\n"
          ]
        }
      ]
    },
    {
      "cell_type": "markdown",
      "source": [
        "2.請將imdb1000中欄位名稱為「Series_Title」改成「電影片名」；「Runtime」改為「影片長度」並重新存回imdb1000 (5%)。"
      ],
      "metadata": {
        "id": "RKtcmok1wGnS"
      }
    },
    {
      "cell_type": "code",
      "source": [
        "imdb1000.rename(columns={'Series_Title': '電影片名', 'Runtime': '影片長度'}, inplace=True)\n",
        "print(imdb1000.head(5))"
      ],
      "metadata": {
        "colab": {
          "base_uri": "https://localhost:8080/"
        },
        "id": "brXAQ_Ebzl5o",
        "outputId": "7fd2e880-2542-4349-e2d0-9a6f2fe7cf4a"
      },
      "execution_count": null,
      "outputs": [
        {
          "output_type": "stream",
          "name": "stdout",
          "text": [
            "                       電影片名  Released_Year Certificate  影片長度  IMDB_Rating  \\\n",
            "0  The Shawshank Redemption           1994           A   142          9.3   \n",
            "1             The Godfather           1972           A   175          9.2   \n",
            "2           The Dark Knight           2008          UA   152          9.0   \n",
            "3    The Godfather: Part II           1974           A   202          9.0   \n",
            "4              12 Angry Men           1957           U    96          9.0   \n",
            "\n",
            "   Meta_score  No_of_Votes        Gross  \n",
            "0        80.0      2343110   28,341,469  \n",
            "1       100.0      1620367  134,966,411  \n",
            "2        84.0      2303232  534,858,444  \n",
            "3        90.0      1129952   57,300,000  \n",
            "4        96.0       689845    4,360,000  \n"
          ]
        }
      ]
    },
    {
      "cell_type": "markdown",
      "source": [
        "3.請用info指令檢視資料集中變數是否符合「imdb_top_1000.xlsx」檔案中『變數定義』所認定之定義；若不是，請將該變數轉型成適當的資料型別(10%)。"
      ],
      "metadata": {
        "id": "e7pKbxSswG3B"
      }
    },
    {
      "cell_type": "code",
      "source": [
        "print(imdb1000.info())\n",
        "#Gross是票房數，應為int。其他的資料類別是對的"
      ],
      "metadata": {
        "colab": {
          "base_uri": "https://localhost:8080/"
        },
        "id": "ZnpccRht0GzB",
        "outputId": "685e4bc9-c3e3-4411-e2d6-167d2b48f980"
      },
      "execution_count": null,
      "outputs": [
        {
          "output_type": "stream",
          "name": "stdout",
          "text": [
            "<class 'pandas.core.frame.DataFrame'>\n",
            "RangeIndex: 1000 entries, 0 to 999\n",
            "Data columns (total 8 columns):\n",
            " #   Column         Non-Null Count  Dtype  \n",
            "---  ------         --------------  -----  \n",
            " 0   電影片名           1000 non-null   object \n",
            " 1   Released_Year  1000 non-null   int64  \n",
            " 2   Certificate    899 non-null    object \n",
            " 3   影片長度           1000 non-null   int64  \n",
            " 4   IMDB_Rating    1000 non-null   float64\n",
            " 5   Meta_score     843 non-null    float64\n",
            " 6   No_of_Votes    1000 non-null   int64  \n",
            " 7   Gross          831 non-null    object \n",
            "dtypes: float64(2), int64(3), object(3)\n",
            "memory usage: 62.6+ KB\n",
            "None\n"
          ]
        }
      ]
    },
    {
      "cell_type": "code",
      "source": [
        "imdb1000['Gross'] = imdb1000['Gross'].replace({',': ''}, regex=True)\n",
        "imdb1000['Gross'] = pd.to_numeric(imdb1000['Gross'], errors='coerce')\n",
        "\n",
        "print(imdb1000.info())"
      ],
      "metadata": {
        "colab": {
          "base_uri": "https://localhost:8080/"
        },
        "id": "3IE-xfAm06XZ",
        "outputId": "0d34cb02-581b-46ce-94bf-31a00b7cdf9b"
      },
      "execution_count": null,
      "outputs": [
        {
          "output_type": "stream",
          "name": "stdout",
          "text": [
            "<class 'pandas.core.frame.DataFrame'>\n",
            "RangeIndex: 1000 entries, 0 to 999\n",
            "Data columns (total 8 columns):\n",
            " #   Column         Non-Null Count  Dtype  \n",
            "---  ------         --------------  -----  \n",
            " 0   電影片名           1000 non-null   object \n",
            " 1   Released_Year  1000 non-null   int64  \n",
            " 2   Certificate    899 non-null    object \n",
            " 3   影片長度           1000 non-null   int64  \n",
            " 4   IMDB_Rating    1000 non-null   float64\n",
            " 5   Meta_score     843 non-null    float64\n",
            " 6   No_of_Votes    1000 non-null   int64  \n",
            " 7   Gross          831 non-null    float64\n",
            "dtypes: float64(3), int64(3), object(2)\n",
            "memory usage: 62.6+ KB\n",
            "None\n"
          ]
        }
      ]
    },
    {
      "cell_type": "markdown",
      "source": [
        "4.請將imdb1000中有遺失值的列刪除，另存成imdb_drop(5%)。\n"
      ],
      "metadata": {
        "id": "e1s1VxIUwHSp"
      }
    },
    {
      "cell_type": "code",
      "source": [
        "imdb_drop = imdb1000.dropna()\n",
        "print(imdb_drop)\n",
        "#imdb_1000原有1000筆資料，此資料表imdb_drop擁有缺失值的資料有750筆"
      ],
      "metadata": {
        "colab": {
          "base_uri": "https://localhost:8080/"
        },
        "id": "XkgU-9Qz12Wt",
        "outputId": "d8ecbae1-293a-4986-f1a9-84ed41ca2b3e"
      },
      "execution_count": null,
      "outputs": [
        {
          "output_type": "stream",
          "name": "stdout",
          "text": [
            "                         電影片名  Released_Year Certificate  影片長度  IMDB_Rating  \\\n",
            "0    The Shawshank Redemption           1994           A   142          9.3   \n",
            "1               The Godfather           1972           A   175          9.2   \n",
            "2             The Dark Knight           2008          UA   152          9.0   \n",
            "3      The Godfather: Part II           1974           A   202          9.0   \n",
            "4                12 Angry Men           1957           U    96          9.0   \n",
            "..                        ...            ...         ...   ...          ...   \n",
            "990              Giù la testa           1971          PG   157          7.6   \n",
            "991            Kelly's Heroes           1970          GP   144          7.6   \n",
            "992           The Jungle Book           1967           U    78          7.6   \n",
            "994        A Hard Day's Night           1964           U    87          7.6   \n",
            "997     From Here to Eternity           1953      Passed   118          7.6   \n",
            "\n",
            "     Meta_score  No_of_Votes        Gross  \n",
            "0          80.0      2343110   28341469.0  \n",
            "1         100.0      1620367  134966411.0  \n",
            "2          84.0      2303232  534858444.0  \n",
            "3          90.0      1129952   57300000.0  \n",
            "4          96.0       689845    4360000.0  \n",
            "..          ...          ...          ...  \n",
            "990        77.0        30144     696690.0  \n",
            "991        50.0        45338    1378435.0  \n",
            "992        65.0       166409  141843612.0  \n",
            "994        96.0        40351   13780024.0  \n",
            "997        85.0        43374   30500000.0  \n",
            "\n",
            "[714 rows x 8 columns]\n"
          ]
        }
      ]
    },
    {
      "cell_type": "markdown",
      "source": [
        "5.請用「if…elif…elif…else…判斷式」將imdb_drop中「IMDB_Rating」重新定義一個變數為『評等』存回imdb_drop這個資料集內，變數定義如下：(10%)\n",
        "A   >= 9.0\n",
        "B   < 9.0 and >= 8.5\n",
        "C   <8.5 and >= 8.0\n",
        "D   <8.0\n"
      ],
      "metadata": {
        "id": "_Oyo64HYwHYR"
      }
    },
    {
      "cell_type": "code",
      "source": [
        "imdb_drop['評等'] = ''\n",
        "for index, row in imdb_drop.iterrows():\n",
        "  if row['IMDB_Rating'] >= 9.0:\n",
        "    imdb_drop.at[index, '評等'] = 'A'\n",
        "  elif 8.5 <= row['IMDB_Rating'] < 9.0:\n",
        "    imdb_drop.at[index, '評等'] = 'B'\n",
        "  elif 8.0 <= row['IMDB_Rating'] < 8.5:\n",
        "    imdb_drop.at[index, '評等'] = 'C'\n",
        "  else:\n",
        "    imdb_drop.at[index, '評等'] = 'D'\n",
        "\n",
        "print(imdb_drop[['IMDB_Rating', '評等']].head())"
      ],
      "metadata": {
        "colab": {
          "base_uri": "https://localhost:8080/"
        },
        "id": "5CyUO_js4GG6",
        "outputId": "75f2bb11-e6f3-4e3b-f456-386d720d437d"
      },
      "execution_count": null,
      "outputs": [
        {
          "output_type": "stream",
          "name": "stdout",
          "text": [
            "   IMDB_Rating 評等\n",
            "0          9.3  A\n",
            "1          9.2  A\n",
            "2          9.0  A\n",
            "3          9.0  A\n",
            "4          9.0  A\n"
          ]
        },
        {
          "output_type": "stream",
          "name": "stderr",
          "text": [
            "<ipython-input-9-0782929ac73c>:1: SettingWithCopyWarning: \n",
            "A value is trying to be set on a copy of a slice from a DataFrame.\n",
            "Try using .loc[row_indexer,col_indexer] = value instead\n",
            "\n",
            "See the caveats in the documentation: https://pandas.pydata.org/pandas-docs/stable/user_guide/indexing.html#returning-a-view-versus-a-copy\n",
            "  imdb_drop['評等'] = ''\n"
          ]
        }
      ]
    },
    {
      "cell_type": "markdown",
      "source": [
        "6.請將imdb_drop中的「電影片名」定義成index並重新存回imdb_drop (5%)。"
      ],
      "metadata": {
        "id": "HpuROfvTwHdh"
      }
    },
    {
      "cell_type": "code",
      "source": [
        "imdb_drop = imdb_drop.set_index('電影片名')\n",
        "print(imdb_drop.head())"
      ],
      "metadata": {
        "colab": {
          "base_uri": "https://localhost:8080/"
        },
        "id": "FCVWkkbD2tE6",
        "outputId": "5f410545-389c-4c05-81e8-0f7a3f1f75ed"
      },
      "execution_count": null,
      "outputs": [
        {
          "output_type": "stream",
          "name": "stdout",
          "text": [
            "                          Released_Year Certificate  影片長度  IMDB_Rating  \\\n",
            "電影片名                                                                     \n",
            "The Shawshank Redemption           1994           A   142          9.3   \n",
            "The Godfather                      1972           A   175          9.2   \n",
            "The Dark Knight                    2008          UA   152          9.0   \n",
            "The Godfather: Part II             1974           A   202          9.0   \n",
            "12 Angry Men                       1957           U    96          9.0   \n",
            "\n",
            "                          Meta_score  No_of_Votes        Gross 評等  \n",
            "電影片名                                                               \n",
            "The Shawshank Redemption        80.0      2343110   28341469.0  A  \n",
            "The Godfather                  100.0      1620367  134966411.0  A  \n",
            "The Dark Knight                 84.0      2303232  534858444.0  A  \n",
            "The Godfather: Part II          90.0      1129952   57300000.0  A  \n",
            "12 Angry Men                    96.0       689845    4360000.0  A  \n"
          ]
        }
      ]
    },
    {
      "cell_type": "markdown",
      "source": [
        "7.請將imdb_drop中「影片長度」、「IMDB_Rating」、「Meta_score」、「No_of_Votes」、「Gross」5個欄位資料另存為imdb_numeric資料集(5%)。"
      ],
      "metadata": {
        "id": "2wbtOAn4wHi0"
      }
    },
    {
      "cell_type": "code",
      "source": [
        "# 直接選擇指定的欄位並保存\n",
        "imdb_numeric = imdb_drop[['影片長度', 'IMDB_Rating', 'Meta_score', 'No_of_Votes', 'Gross']]\n",
        "print(imdb_numeric)"
      ],
      "metadata": {
        "colab": {
          "base_uri": "https://localhost:8080/"
        },
        "id": "zk8lv2Of28pa",
        "outputId": "fb5bb697-8171-4964-f6d8-198814658b0a"
      },
      "execution_count": null,
      "outputs": [
        {
          "output_type": "stream",
          "name": "stdout",
          "text": [
            "                          影片長度  IMDB_Rating  Meta_score  No_of_Votes  \\\n",
            "電影片名                                                                   \n",
            "The Shawshank Redemption   142          9.3        80.0      2343110   \n",
            "The Godfather              175          9.2       100.0      1620367   \n",
            "The Dark Knight            152          9.0        84.0      2303232   \n",
            "The Godfather: Part II     202          9.0        90.0      1129952   \n",
            "12 Angry Men                96          9.0        96.0       689845   \n",
            "...                        ...          ...         ...          ...   \n",
            "Giù la testa               157          7.6        77.0        30144   \n",
            "Kelly's Heroes             144          7.6        50.0        45338   \n",
            "The Jungle Book             78          7.6        65.0       166409   \n",
            "A Hard Day's Night          87          7.6        96.0        40351   \n",
            "From Here to Eternity      118          7.6        85.0        43374   \n",
            "\n",
            "                                Gross  \n",
            "電影片名                                   \n",
            "The Shawshank Redemption   28341469.0  \n",
            "The Godfather             134966411.0  \n",
            "The Dark Knight           534858444.0  \n",
            "The Godfather: Part II     57300000.0  \n",
            "12 Angry Men                4360000.0  \n",
            "...                               ...  \n",
            "Giù la testa                 696690.0  \n",
            "Kelly's Heroes              1378435.0  \n",
            "The Jungle Book           141843612.0  \n",
            "A Hard Day's Night         13780024.0  \n",
            "From Here to Eternity      30500000.0  \n",
            "\n",
            "[714 rows x 5 columns]\n"
          ]
        }
      ]
    },
    {
      "cell_type": "markdown",
      "source": [
        "8.計算imdb_numeric所有欄位的平均數、標準差、最大值、最小值，以及變數間的共變異數及相關係數矩陣(10%)。"
      ],
      "metadata": {
        "id": "dN2uB2ACwHny"
      }
    },
    {
      "cell_type": "code",
      "source": [
        "#平均數\n",
        "mean_values = imdb_numeric.mean()\n",
        "#標準差\n",
        "std_values = imdb_numeric.std()\n",
        "#最大值\n",
        "max_values = imdb_numeric.max()\n",
        "#最小值\n",
        "min_values = imdb_numeric.min()\n",
        "#共變異數矩陣\n",
        "covariance_matrix = imdb_numeric.cov()\n",
        "#相關係數矩陣\n",
        "correlation_matrix = imdb_numeric.corr()\n",
        "\n",
        "print(\"平均數:\")\n",
        "print(mean_values)\n",
        "print(\"\\n標準差:\")\n",
        "print(std_values)\n",
        "print(\"\\n最大值:\")\n",
        "print(max_values)\n",
        "print(\"\\n最小值:\")\n",
        "print(min_values)\n",
        "print(\"\\n共變異數矩陣:\")\n",
        "print(covariance_matrix)\n",
        "print(\"\\n相關係數矩陣:\")\n",
        "print(correlation_matrix)"
      ],
      "metadata": {
        "colab": {
          "base_uri": "https://localhost:8080/"
        },
        "id": "l5B-iA7E5zua",
        "outputId": "215214f6-ce88-4f08-a08d-e2f5b68cd34c"
      },
      "execution_count": null,
      "outputs": [
        {
          "output_type": "stream",
          "name": "stdout",
          "text": [
            "平均數:\n",
            "影片長度           1.237157e+02\n",
            "IMDB_Rating    7.937115e+00\n",
            "Meta_score     7.715826e+01\n",
            "No_of_Votes    3.561348e+05\n",
            "Gross          7.851359e+07\n",
            "dtype: float64\n",
            "\n",
            "標準差:\n",
            "影片長度           2.588754e+01\n",
            "IMDB_Rating    2.932778e-01\n",
            "Meta_score     1.240114e+01\n",
            "No_of_Votes    3.539011e+05\n",
            "Gross          1.149780e+08\n",
            "dtype: float64\n",
            "\n",
            "最大值:\n",
            "影片長度                 238.0\n",
            "IMDB_Rating            9.3\n",
            "Meta_score           100.0\n",
            "No_of_Votes      2343110.0\n",
            "Gross          936662225.0\n",
            "dtype: float64\n",
            "\n",
            "最小值:\n",
            "影片長度              72.0\n",
            "IMDB_Rating        7.6\n",
            "Meta_score        28.0\n",
            "No_of_Votes    25229.0\n",
            "Gross           1305.0\n",
            "dtype: float64\n",
            "\n",
            "共變異數矩陣:\n",
            "                     影片長度   IMDB_Rating    Meta_score   No_of_Votes  \\\n",
            "影片長度         6.701645e+02  1.960497e+00 -1.835726e+00  1.957448e+06   \n",
            "IMDB_Rating  1.960497e+00  8.601186e-02  1.021607e+00  6.467677e+04   \n",
            "Meta_score  -1.835726e+00  1.021607e+00  1.537884e+02  1.305417e+05   \n",
            "No_of_Votes  1.957448e+06  6.467677e+04  1.305417e+05  1.252460e+11   \n",
            "Gross        5.026262e+08  4.248496e+06 -2.110442e+07  2.217172e+13   \n",
            "\n",
            "                    Gross  \n",
            "影片長度         5.026262e+08  \n",
            "IMDB_Rating  4.248496e+06  \n",
            "Meta_score  -2.110442e+07  \n",
            "No_of_Votes  2.217172e+13  \n",
            "Gross        1.321993e+16  \n",
            "\n",
            "相關係數矩陣:\n",
            "                 影片長度  IMDB_Rating  Meta_score  No_of_Votes     Gross\n",
            "影片長度         1.000000     0.258224   -0.005718     0.213657  0.168865\n",
            "IMDB_Rating  0.258224     1.000000    0.280894     0.623142  0.125992\n",
            "Meta_score  -0.005718     0.280894    1.000000     0.029744 -0.014801\n",
            "No_of_Votes  0.213657     0.623142    0.029744     1.000000  0.544882\n",
            "Gross        0.168865     0.125992   -0.014801     0.544882  1.000000\n"
          ]
        }
      ]
    },
    {
      "cell_type": "markdown",
      "source": [
        "9.請將imdb_drop中「評等」另存成imdb_rate的資料集(5%)。"
      ],
      "metadata": {
        "id": "mM7K4l2BwHuB"
      }
    },
    {
      "cell_type": "code",
      "source": [
        "imdb_rate = imdb_drop[['評等']]\n",
        "print(imdb_rate)"
      ],
      "metadata": {
        "colab": {
          "base_uri": "https://localhost:8080/"
        },
        "id": "uETDbNiz3sSS",
        "outputId": "45da3f8d-8cc0-424b-ccdf-df5722ddafaa"
      },
      "execution_count": null,
      "outputs": [
        {
          "output_type": "stream",
          "name": "stdout",
          "text": [
            "                         評等\n",
            "電影片名                       \n",
            "The Shawshank Redemption  A\n",
            "The Godfather             A\n",
            "The Dark Knight           A\n",
            "The Godfather: Part II    A\n",
            "12 Angry Men              A\n",
            "...                      ..\n",
            "Giù la testa              D\n",
            "Kelly's Heroes            D\n",
            "The Jungle Book           D\n",
            "A Hard Day's Night        D\n",
            "From Here to Eternity     D\n",
            "\n",
            "[714 rows x 1 columns]\n"
          ]
        }
      ]
    },
    {
      "cell_type": "markdown",
      "source": [
        "10.請將imdb_rate及imdb_numeric兩個資料集進行欄位合併成imdb_merge(5%)。"
      ],
      "metadata": {
        "id": "D_kXJzoSwH07"
      }
    },
    {
      "cell_type": "code",
      "source": [
        "imdb_merge = imdb_rate.join(imdb_numeric)\n",
        "print(imdb_merge.head())"
      ],
      "metadata": {
        "colab": {
          "base_uri": "https://localhost:8080/"
        },
        "id": "h9PuCBcP5EMD",
        "outputId": "3252eaaf-3ef2-47cf-86b9-2695db0167ee"
      },
      "execution_count": null,
      "outputs": [
        {
          "output_type": "stream",
          "name": "stdout",
          "text": [
            "                         評等  影片長度  IMDB_Rating  Meta_score  No_of_Votes  \\\n",
            "電影片名                                                                      \n",
            "The Shawshank Redemption  A   142          9.3        80.0      2343110   \n",
            "The Godfather             A   175          9.2       100.0      1620367   \n",
            "The Dark Knight           A   152          9.0        84.0      2303232   \n",
            "The Godfather: Part II    A   202          9.0        90.0      1129952   \n",
            "12 Angry Men              A    96          9.0        96.0       689845   \n",
            "\n",
            "                                Gross  \n",
            "電影片名                                   \n",
            "The Shawshank Redemption   28341469.0  \n",
            "The Godfather             134966411.0  \n",
            "The Dark Knight           534858444.0  \n",
            "The Godfather: Part II     57300000.0  \n",
            "12 Angry Men                4360000.0  \n"
          ]
        }
      ]
    },
    {
      "cell_type": "markdown",
      "source": [
        "11.以imdb_merge中「評等」進行資料分組，分別計算其「影片長度」、「IMDB_Rating」、「Meta_score」、「No_of_Votes」、「Gross」5個變數的平均數、個數(10%)。"
      ],
      "metadata": {
        "id": "ddXEIrakwIAZ"
      }
    },
    {
      "cell_type": "code",
      "source": [
        "grouped_stats = imdb_merge.groupby('評等').agg({\n",
        "    '影片長度': ['mean', 'count'],\n",
        "    'IMDB_Rating': ['mean', 'count'],\n",
        "    'Meta_score': ['mean', 'count'],\n",
        "    'No_of_Votes': ['mean', 'count'],\n",
        "    'Gross': ['mean', 'count']\n",
        "})\n",
        "\n",
        "grouped_stats.columns = ['影片長度_平均', '影片長度_個數',\n",
        "              'IMDB_Rating_平均', 'IMDB_Rating_個數',\n",
        "              'Meta_score_平均', 'Meta_score_個數',\n",
        "              'No_of_Votes_平均', 'No_of_Votes_個數',\n",
        "              'Gross_平均', 'Gross_個數']\n",
        "\n",
        "print(grouped_stats)"
      ],
      "metadata": {
        "colab": {
          "base_uri": "https://localhost:8080/"
        },
        "id": "kseubvrz6sDx",
        "outputId": "2c3bafff-9e89-476d-bd2a-b606946e632b"
      },
      "execution_count": null,
      "outputs": [
        {
          "output_type": "stream",
          "name": "stdout",
          "text": [
            "       影片長度_平均  影片長度_個數  IMDB_Rating_平均  IMDB_Rating_個數  Meta_score_平均  \\\n",
            "評等                                                                       \n",
            "A   153.400000        5        9.100000               5      90.000000   \n",
            "B   138.279070       43        8.611628              43      81.558140   \n",
            "C   128.330709      254        8.124016             254      79.972441   \n",
            "D   118.990291      412        7.737379             412      74.808252   \n",
            "\n",
            "    Meta_score_個數  No_of_Votes_平均  No_of_Votes_個數      Gross_平均  Gross_個數  \n",
            "評等                                                                         \n",
            "A               5    1.617301e+06               5  1.519653e+08         5  \n",
            "B              43    1.039062e+06              43  1.269103e+08        43  \n",
            "C             254    4.160962e+05             254  8.114404e+07       254  \n",
            "D             412    2.325866e+05             412  7.094939e+07       412  \n"
          ]
        }
      ]
    },
    {
      "cell_type": "markdown",
      "source": [
        "12.請以imdb_drop中「Certificate」項目的次數分配表繪製圓餅圖，並命名該圖表的title為『認證項目圓餅圖』(10%)。\n"
      ],
      "metadata": {
        "id": "yI1R6fKtwII5"
      }
    },
    {
      "cell_type": "code",
      "source": [
        "import matplotlib.pyplot as plt\n",
        "from matplotlib.font_manager import FontProperties as font\n",
        "\n",
        "certificate_counts = imdb_drop['Certificate'].value_counts()\n",
        "\n",
        "plt.figure(figsize=(8, 8))\n",
        "certificate_counts.plot(kind='pie', autopct='%1.1f%%')\n",
        "plt.title('Certificate Distribution Pie Chart')\n",
        "plt.ylabel('')\n",
        "plt.show()"
      ],
      "metadata": {
        "colab": {
          "base_uri": "https://localhost:8080/",
          "height": 675
        },
        "id": "4QqAdmQN7csC",
        "outputId": "c295e1d2-e076-42e4-bcfe-c3ecb24a8bec"
      },
      "execution_count": null,
      "outputs": [
        {
          "output_type": "display_data",
          "data": {
            "text/plain": [
              "<Figure size 800x800 with 1 Axes>"
            ],
            "image/png": "[encoded data removed]"
          },
          "metadata": {}
        }
      ]
    },
    {
      "cell_type": "markdown",
      "source": [
        "13.請篩選imdb_drop中「Certificate」為U的項目，且欄位保留「Certificate」及「Meta_Score」2個變數，另存成imdb_U資料集(5%)。"
      ],
      "metadata": {
        "id": "Oxa9cLWPwIO5"
      }
    },
    {
      "cell_type": "code",
      "source": [
        "imdb_U = imdb_drop.loc[imdb_drop['Certificate'] == 'U', ['Certificate', 'Meta_score']]\n",
        "\n",
        "print(imdb_U.head())"
      ],
      "metadata": {
        "colab": {
          "base_uri": "https://localhost:8080/"
        },
        "id": "VRm-ttbH9POa",
        "outputId": "d617b7e6-5b4b-4070-eb6d-50f8aadbdbba"
      },
      "execution_count": null,
      "outputs": [
        {
          "output_type": "stream",
          "name": "stdout",
          "text": [
            "                                                  Certificate  Meta_score\n",
            "電影片名                                                                     \n",
            "12 Angry Men                                                U        96.0\n",
            "The Lord of the Rings: The Return of the King               U        94.0\n",
            "The Lord of the Rings: The Fellowship of the Ring           U        92.0\n",
            "Sen to Chihiro no kamikakushi                               U        96.0\n",
            "La vita è bella                                             U        59.0\n"
          ]
        }
      ]
    },
    {
      "cell_type": "markdown",
      "source": [
        "14.請繪製imdb_U中「Meta_Score」變數的莖葉圖(5%)。"
      ],
      "metadata": {
        "id": "88A7gQR_xeMe"
      }
    },
    {
      "cell_type": "markdown",
      "source": [
        "15.請繪製imdb_drop中「No_of_Votes」的盒鬚圖（以「評等」進行分組）(10%)。\n"
      ],
      "metadata": {
        "id": "xEIZUfqVxeVZ"
      }
    },
    {
      "cell_type": "code",
      "source": [
        "import seaborn as sns\n",
        "import matplotlib.pyplot as plt\n",
        "\n",
        "plt.figure(figsize=(10, 6))\n",
        "sns.boxplot(x='評等', y='No_of_Votes', data=imdb_drop)\n",
        "plt.title('Boxplot of No_of_Votes Grouped by Certificate')\n",
        "plt.xlabel('Certificate')\n",
        "plt.ylabel('No_of_Votes')\n",
        "plt.show()"
      ],
      "metadata": {
        "colab": {
          "base_uri": "https://localhost:8080/",
          "height": 564
        },
        "id": "QJMdRZO1-HUr",
        "outputId": "a6cb751e-7178-475d-a25a-75dd041382d4"
      },
      "execution_count": null,
      "outputs": [
        {
          "output_type": "display_data",
          "data": {
            "text/plain": [
              "<Figure size 1000x600 with 1 Axes>"
            ],
            "image/png": "[encoded data removed]"
          },
          "metadata": {}
        }
      ]
    },
    {
      "cell_type": "markdown",
      "source": [
        "16.請分別讀入以下兩個檔案，並分別命名為Dat1及Dat2，再將這兩個檔案上下合併(10%)。"
      ],
      "metadata": {
        "id": "ITjwjwxzxe0J"
      }
    }
  ]
}